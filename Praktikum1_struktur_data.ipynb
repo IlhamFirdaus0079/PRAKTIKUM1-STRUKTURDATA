{
  "nbformat": 4,
  "nbformat_minor": 0,
  "metadata": {
    "colab": {
      "provenance": []
    },
    "kernelspec": {
      "name": "python3",
      "display_name": "Python 3"
    },
    "language_info": {
      "name": "python"
    }
  },
  "cells": [
    {
      "cell_type": "code",
      "execution_count": null,
      "metadata": {
        "colab": {
          "base_uri": "https://localhost:8080/"
        },
        "id": "PjIQQKDwV7_v",
        "outputId": "707d17f8-b92f-470c-b6de-e34b9c0b7569"
      },
      "outputs": [
        {
          "output_type": "stream",
          "name": "stdout",
          "text": [
            "Ronaldo\n",
            "Isi my_fellas indeks ke-0 adalah Ronaldo\n",
            "Semua teman: ada 5 orang\n",
            "Ronaldo\n",
            "Pessi\n",
            "Anderson\n",
            "Abdurrahman\n",
            "Sultan\n"
          ]
        }
      ],
      "source": [
        "my_fellas = [\"Ronaldo\", \"Pessi\", \"Anderson\", \"Abdurrahman\", \"Sultan\"]\n",
        "print (my_fellas[0])\n",
        "print (\"Isi my_fellas indeks ke-0 adalah {}\".format(my_fellas[0]))\n",
        "print (\"Semua teman: ada {} orang\".format(len(my_fellas)))\n",
        "for i in my_fellas : print (i)"
      ]
    },
    {
      "cell_type": "code",
      "source": [
        "for i in range(5):\n",
        "  print(i)"
      ],
      "metadata": {
        "colab": {
          "base_uri": "https://localhost:8080/"
        },
        "id": "4C8DJlyObKNQ",
        "outputId": "02c84a28-0d44-42c5-9c4c-d3ff88da454f"
      },
      "execution_count": null,
      "outputs": [
        {
          "output_type": "stream",
          "name": "stdout",
          "text": [
            "0\n",
            "1\n",
            "2\n",
            "3\n",
            "4\n"
          ]
        }
      ]
    },
    {
      "cell_type": "code",
      "source": [
        "buah = [\"Apel\",\"mangga\",\"nangka\",\"jeruk\",\"nanas\"]\n",
        "buah.append(\"manggis\")\n",
        "print(buah)"
      ],
      "metadata": {
        "colab": {
          "base_uri": "https://localhost:8080/"
        },
        "id": "CeaeSdh0KVjA",
        "outputId": "774dfb35-66b3-43fb-822c-a6cb6eb5e2a7"
      },
      "execution_count": 1,
      "outputs": [
        {
          "output_type": "stream",
          "name": "stdout",
          "text": [
            "['Apel', 'mangga', 'nangka', 'jeruk', 'nanas', 'manggis']\n"
          ]
        }
      ]
    },
    {
      "cell_type": "code",
      "source": [
        "teman = [\"Ronaldo\", \"Giannis\", \"Pesi\", \"James\", \"Ghareeb\"]\n",
        "teman[4] = \"Ronaldo\"\n",
        "print(\"Teman dekat saya adalah {}.\".format(teman[4]))"
      ],
      "metadata": {
        "colab": {
          "base_uri": "https://localhost:8080/"
        },
        "id": "NCsi3B4zKb0_",
        "outputId": "524f63d7-dc92-411d-ab34-8d809ea259d9"
      },
      "execution_count": 2,
      "outputs": [
        {
          "output_type": "stream",
          "name": "stdout",
          "text": [
            "Teman dekat saya adalah Ronaldo.\n"
          ]
        }
      ]
    },
    {
      "cell_type": "code",
      "source": [
        "#Deklarasi List\n",
        "nilai = [2,4,6,8,10,12,14,16,18,20]\n",
        "\n",
        "#tampilkan list\n",
        "print(\"List Nilai : \\n\",nilai)\n",
        "\n",
        "#menggunakan len\n",
        "print(\"\\nJumlah Index list nilai (len) : \\n\", len(nilai))\n",
        "\n",
        "#menggunakan count\n",
        "print(\"\\nJumlah Nilai 5 Dalam List (count) : \\n\", nilai.count(2))\n",
        "\n",
        "#Menggunakan append\n",
        "print(\"\\nMenambah element dalam list (append) : \")\n",
        "nilai.append(12)\n",
        "nilai.append(10)\n",
        "print(\"List Nilai : \",nilai)\n",
        "\n",
        "#Menggunakan index\n",
        "print(\"\\nIndex ke 8 (index) : \\n\", nilai.index(12))\n",
        "\n",
        "#Menggunakan insert\n",
        "nilai.insert(1,22)\n",
        "print(\"\\nTambah Nilai List (Insert) : \\n\", nilai)\n",
        "#Menggunakan pop\n",
        "nilai.pop()\n",
        "nilai.pop()\n",
        "print(\"\\nList Nilai (pop) : \\n\",nilai)\n",
        "\n",
        "#Menggunakan remove\n",
        "nilai.remove(2)\n",
        "nilai.remove(4)\n",
        "print(\"\\nList Nilai (remove) : \\n\", nilai)"
      ],
      "metadata": {
        "colab": {
          "base_uri": "https://localhost:8080/"
        },
        "id": "8JRm-iLOLOAN",
        "outputId": "7f3d3bad-091f-4e5d-e0ab-a122ec6786af"
      },
      "execution_count": 3,
      "outputs": [
        {
          "output_type": "stream",
          "name": "stdout",
          "text": [
            "List Nilai : \n",
            " [2, 4, 6, 8, 10, 12, 14, 16, 18, 20]\n",
            "\n",
            "Jumlah Index list nilai (len) : \n",
            " 10\n",
            "\n",
            "Jumlah Nilai 5 Dalam List (count) : \n",
            " 1\n",
            "\n",
            "Menambah element dalam list (append) : \n",
            "List Nilai :  [2, 4, 6, 8, 10, 12, 14, 16, 18, 20, 12, 10]\n",
            "\n",
            "Index ke 8 (index) : \n",
            " 5\n",
            "\n",
            "Tambah Nilai List (Insert) : \n",
            " [2, 22, 4, 6, 8, 10, 12, 14, 16, 18, 20, 12, 10]\n",
            "\n",
            "List Nilai (pop) : \n",
            " [2, 22, 4, 6, 8, 10, 12, 14, 16, 18, 20]\n",
            "\n",
            "List Nilai (remove) : \n",
            " [22, 6, 8, 10, 12, 14, 16, 18, 20]\n"
          ]
        }
      ]
    },
    {
      "cell_type": "code",
      "source": [
        "#Menggunakan extend\n",
        "nilai2 = [4,2,8,10]\n",
        "nilai.extend(nilai2)\n",
        "print(\"\\nList Nilai (extend : \\n\", nilai)\n",
        "\n",
        "#Menggunakan reverse\n",
        "nilai.reverse()\n",
        "print(\"\\nList Nilai (reverse) : \\n\", nilai)\n",
        "\n",
        "#Menggunakan sort\n",
        "nilai.sort()\n",
        "print(\"\\nList Nilai (sort) : \\n\", nilai)\n",
        "\n",
        "#Menggunakan Max\n",
        "print(\"\\nNilai Terbanyak (max) : \\n\", max(nilai))\n",
        "\n",
        "#Mengguankan min\n",
        "print(\"\\nNilai terendah (min) : \\n\", min(nilai))\n",
        "\n",
        "#Menggunakan Sum\n",
        "print(\"\\nTotal penjumlahan nilai dari list_nilai (sum) : \\n\",\n",
        "sum(nilai))"
      ],
      "metadata": {
        "colab": {
          "base_uri": "https://localhost:8080/"
        },
        "id": "2wEtNSD0LVyl",
        "outputId": "3d056e90-b06e-4ae4-feaa-4ae953d83950"
      },
      "execution_count": 4,
      "outputs": [
        {
          "output_type": "stream",
          "name": "stdout",
          "text": [
            "\n",
            "List Nilai (extend : \n",
            " [22, 6, 8, 10, 12, 14, 16, 18, 20, 4, 2, 8, 10]\n",
            "\n",
            "List Nilai (reverse) : \n",
            " [10, 8, 2, 4, 20, 18, 16, 14, 12, 10, 8, 6, 22]\n",
            "\n",
            "List Nilai (sort) : \n",
            " [2, 4, 6, 8, 8, 10, 10, 12, 14, 16, 18, 20, 22]\n",
            "\n",
            "Nilai Terbanyak (max) : \n",
            " 22\n",
            "\n",
            "Nilai terendah (min) : \n",
            " 2\n",
            "\n",
            "Total penjumlahan nilai dari list_nilai (sum) : \n",
            " 150\n"
          ]
        }
      ]
    },
    {
      "cell_type": "code",
      "source": [
        "# Deklarasi List Nama Orang\n",
        "nama_orang = [\"Ronaldo\", \"Giannis\", \"Pesi\", \"James\", \"Butler\",\"Nawaf\"]\n",
        "\n",
        "# Tampilkan List\n",
        "print(\"List Nama Orang: \\n\", nama_orang)\n",
        "\n",
        "# Menggunakan len\n",
        "print(\"\\nJumlah Index List Nama Orang (len): \\n\", len(nama_orang))\n",
        "\n",
        "# Menggunakan count\n",
        "print(\"\\nJumlah Nama Khoirul dalam List (count): \\n\", nama_orang.count(\"Pesi\"))\n",
        "\n",
        "# Menggunakan append\n",
        "print(\"\\nMenambah Nama ke dalam List (append): \")\n",
        "nama_orang.append(\"Carlos\")\n",
        "nama_orang.append(\"Genuks putra\")\n",
        "print(\"List Nama Orang: \", nama_orang)\n",
        "\n",
        "# Menggunakan index\n",
        "print(\"\\nIndex ke-3 (index): \\n\", nama_orang.index(\"Nawaf\"))\n",
        "\n",
        "# Menggunakan insert\n",
        "nama_orang.insert(2, \"Soleh\")\n",
        "print(\"\\nMenambah Nama ke dalam List (Insert): \\n\", nama_orang)\n",
        "\n",
        "# Menggunakan pop\n",
        "nama_orang.pop()\n",
        "nama_orang.pop()\n",
        "print(\"\\nList Nama Orang (pop): \\n\", nama_orang)\n",
        "# Menggunakan remove\n",
        "nama_orang.remove(\"Nawaf\")\n",
        "nama_orang.remove(\"Pesi\")\n",
        "print(\"\\nList Nama Orang (remove): \\n\", nama_orang)"
      ],
      "metadata": {
        "colab": {
          "base_uri": "https://localhost:8080/"
        },
        "id": "GItlOcrmLY-U",
        "outputId": "d786640a-67b3-419e-ed10-fd8a8edac1e5"
      },
      "execution_count": 5,
      "outputs": [
        {
          "output_type": "stream",
          "name": "stdout",
          "text": [
            "List Nama Orang: \n",
            " ['Ronaldo', 'Giannis', 'Pesi', 'James', 'Butler', 'Nawaf']\n",
            "\n",
            "Jumlah Index List Nama Orang (len): \n",
            " 6\n",
            "\n",
            "Jumlah Nama Khoirul dalam List (count): \n",
            " 1\n",
            "\n",
            "Menambah Nama ke dalam List (append): \n",
            "List Nama Orang:  ['Ronaldo', 'Giannis', 'Pesi', 'James', 'Butler', 'Nawaf', 'Carlos', 'Genuks putra']\n",
            "\n",
            "Index ke-3 (index): \n",
            " 5\n",
            "\n",
            "Menambah Nama ke dalam List (Insert): \n",
            " ['Ronaldo', 'Giannis', 'Soleh', 'Pesi', 'James', 'Butler', 'Nawaf', 'Carlos', 'Genuks putra']\n",
            "\n",
            "List Nama Orang (pop): \n",
            " ['Ronaldo', 'Giannis', 'Soleh', 'Pesi', 'James', 'Butler', 'Nawaf']\n",
            "\n",
            "List Nama Orang (remove): \n",
            " ['Ronaldo', 'Giannis', 'Soleh', 'James', 'Butler']\n"
          ]
        }
      ]
    }
  ]
}